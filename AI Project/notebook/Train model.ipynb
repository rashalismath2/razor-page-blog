{
 "cells": [
  {
   "cell_type": "code",
   "execution_count": null,
   "id": "f0f59d41",
   "metadata": {},
   "outputs": [],
   "source": [
    "!pip install -q transformers\n",
    "!pip install -q simpletransformers"
   ]
  },
  {
   "cell_type": "code",
   "execution_count": null,
   "id": "f8ff5a5e",
   "metadata": {},
   "outputs": [],
   "source": [
    "import pandas as pd\n",
    "\n",
    "df = pd.read_csv('https://raw.githubusercontent.com/bvidgen/Dynamically-Generated-Hate-Speech-Dataset/main/Dynamically%20Generated%20Hate%20Dataset%20v0.2.2.csv')\n",
    "train_df = df[df['split'] == 'train'] # split the dataset by the column 'split' which labels 'train' and 'test' samples\n",
    "test_df = df[df['split'] == 'test'] # split the dataset by the column 'split' which labels 'train' and 'test' samples"
   ]
  },
  {
   "cell_type": "code",
   "execution_count": null,
   "id": "2fec6b2d",
   "metadata": {},
   "outputs": [],
   "source": [
    "train_df.head()"
   ]
  },
  {
   "cell_type": "code",
   "execution_count": null,
   "id": "d8292133",
   "metadata": {},
   "outputs": [],
   "source": [
    "train_df[\"label\"].unique()"
   ]
  },
  {
   "cell_type": "code",
   "execution_count": null,
   "id": "4b045aca",
   "metadata": {},
   "outputs": [],
   "source": [
    "train_df = train_df.replace({'label': {'hate': 1, 'nothate': 0}}) # relabel the `label` column, hate is 1 and nothate is 0\n",
    "test_df = test_df.replace({'label': {'hate': 1, 'nothate': 0}}) # relabel the `label` column, hate is 1 and nothate is 0\n",
    "train_df.head()"
   ]
  },
  {
   "cell_type": "code",
   "execution_count": null,
   "id": "49ccb21a",
   "metadata": {},
   "outputs": [],
   "source": [
    "train_df = train_df.rename(columns={'label': 'labels'})\n",
    "test_df = test_df.rename(columns={'label': 'labels'})"
   ]
  },
  {
   "cell_type": "code",
   "execution_count": null,
   "id": "7b5f9ed9",
   "metadata": {},
   "outputs": [],
   "source": [
    "data = [[train_df.labels.value_counts()[0], test_df.labels.value_counts()[0]], \n",
    "        [train_df.labels.value_counts()[1], test_df.labels.value_counts()[1]]]\n",
    "# Prints out the dataset sizes of train test and validate as per the table.\n",
    "pd.DataFrame(data, columns=['Train', 'Test'])"
   ]
  },
  {
   "cell_type": "code",
   "execution_count": null,
   "id": "cf13cf40",
   "metadata": {},
   "outputs": [],
   "source": [
    "train_args = {\n",
    "    'reprocess_input_data': True,\n",
    "    'overwrite_output_dir': True,\n",
    "    'sliding_window': True,\n",
    "    'max_seq_length': 64,\n",
    "    'num_train_epochs': 1,\n",
    "    'train_batch_size': 128,\n",
    "    'fp16': True,\n",
    "    'output_dir': '/outputs/',\n",
    "}"
   ]
  },
  {
   "cell_type": "code",
   "execution_count": null,
   "id": "537ebdad",
   "metadata": {},
   "outputs": [],
   "source": [
    "from simpletransformers.classification import ClassificationModel\n",
    "import pandas as pd\n",
    "import logging\n",
    "import sklearn\n",
    "\n",
    "logging.basicConfig(level=logging.DEBUG)\n",
    "transformers_logger = logging.getLogger('transformers')\n",
    "transformers_logger.setLevel(logging.WARNING)\n",
    "\n",
    "# We use the XLNet base cased pre-trained model.\n",
    "model = ClassificationModel('roberta', 'roberta-base', num_labels=2, args=train_args) \n",
    "\n",
    "# Train the model, there is no development or validation set for this dataset \n",
    "# https://simpletransformers.ai/docs/tips-and-tricks/#using-early-stopping\n",
    "model.train_model(train_df)\n",
    "\n",
    "# Evaluate the model in terms of accuracy score\n",
    "result, model_outputs, wrong_predictions = model.eval_model(test_df, acc=sklearn.metrics.accuracy_score)"
   ]
  },
  {
   "cell_type": "code",
   "execution_count": null,
   "id": "29aa412f",
   "metadata": {},
   "outputs": [],
   "source": [
    "result, model_outputs, wrong_predictions = model.eval_model(test_df, acc=sklearn.metrics.f1_score)"
   ]
  },
  {
   "cell_type": "code",
   "execution_count": null,
   "id": "d01ff784",
   "metadata": {},
   "outputs": [],
   "source": [
    "samples = [test_df[test_df['labels'] == 0].sample(1).iloc[0]['text']] # get a random sample from the test set which is nothate\n",
    "predictions, _ = model.predict(samples)\n",
    "label_dict = {0: 'nothate', 1: 'hate'}\n",
    "for idx, sample in enumerate(samples):\n",
    "  print('{} - {}: {}'.format(idx, label_dict[predictions[idx]], sample))"
   ]
  },
  {
   "cell_type": "code",
   "execution_count": null,
   "id": "975a5468",
   "metadata": {},
   "outputs": [],
   "source": [
    "from bs4 import BeautifulSoup\n",
    "# function to remove HTML tags\n",
    "def remove_html_tags(text):\n",
    "    return BeautifulSoup(text, 'html.parser').get_text()"
   ]
  },
  {
   "cell_type": "code",
   "execution_count": null,
   "id": "a9b56b3c",
   "metadata": {},
   "outputs": [],
   "source": []
  }
 ],
 "metadata": {
  "kernelspec": {
   "display_name": "Python 3 (ipykernel)",
   "language": "python",
   "name": "python3"
  },
  "language_info": {
   "codemirror_mode": {
    "name": "ipython",
    "version": 3
   },
   "file_extension": ".py",
   "mimetype": "text/x-python",
   "name": "python",
   "nbconvert_exporter": "python",
   "pygments_lexer": "ipython3",
   "version": "3.9.13"
  }
 },
 "nbformat": 4,
 "nbformat_minor": 5
}
