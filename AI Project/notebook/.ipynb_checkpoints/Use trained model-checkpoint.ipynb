{
 "cells": [
  {
   "cell_type": "code",
   "execution_count": 1,
   "id": "48f7a9d2",
   "metadata": {},
   "outputs": [],
   "source": [
    "import pandas as pd\n",
    "from simpletransformers.classification import ClassificationModel\n",
    "from bs4 import BeautifulSoup"
   ]
  },
  {
   "cell_type": "code",
   "execution_count": 2,
   "id": "a31b928f",
   "metadata": {},
   "outputs": [],
   "source": [
    "# function to remove HTML tags\n",
    "def remove_html_tags(text):\n",
    "    return BeautifulSoup(text, 'html.parser').get_text()"
   ]
  },
  {
   "cell_type": "code",
   "execution_count": 13,
   "id": "0fa93062",
   "metadata": {},
   "outputs": [],
   "source": [
    "train_args = {\n",
    "    'reprocess_input_data': True,\n",
    "    'overwrite_output_dir': True,\n",
    "    'sliding_window': True,\n",
    "    'max_seq_length': 64,\n",
    "    'num_train_epochs': 1,\n",
    "    'train_batch_size': 128,\n",
    "    'output_dir': '/outputs/',\n",
    "    'fp16': False\n",
    "}"
   ]
  },
  {
   "cell_type": "code",
   "execution_count": 14,
   "id": "4c7fed52",
   "metadata": {},
   "outputs": [],
   "source": [
    "model = ClassificationModel('roberta', './outputs/', args=train_args,use_cuda=False)"
   ]
  },
  {
   "cell_type": "code",
   "execution_count": null,
   "id": "03b43ac8",
   "metadata": {},
   "outputs": [],
   "source": [
    "articleBody='''<turnaway-pharos-heading no-margin=\"\" class=\"title-font\" level=\"1\" preset=\"5\" data-pharos-component=\"PharosHeading\">\n",
    "            ISLAMIC TERRORISM IN INDIA AND ITS IMPACT ON MUSLIM COMMUNITY AND HUMAN RIGHTS\n",
    "        </turnaway-pharos-heading>'''\n",
    "\n",
    "articleBodyText=remove_html_tags(text)\n",
    "articleTItle=\"This is not a hate comment.\""
   ]
  },
  {
   "cell_type": "code",
   "execution_count": 22,
   "id": "714443a0",
   "metadata": {},
   "outputs": [
    {
     "data": {
      "application/vnd.jupyter.widget-view+json": {
       "model_id": "c52d4c980d6e40099b609f2a1a4eee3b",
       "version_major": 2,
       "version_minor": 0
      },
      "text/plain": [
       "  0%|          | 0/2 [00:00<?, ?it/s]"
      ]
     },
     "metadata": {},
     "output_type": "display_data"
    },
    {
     "data": {
      "application/vnd.jupyter.widget-view+json": {
       "model_id": "eadd70ea162344e78aa28e29c5195466",
       "version_major": 2,
       "version_minor": 0
      },
      "text/plain": [
       "  0%|          | 0/1 [00:00<?, ?it/s]"
      ]
     },
     "metadata": {},
     "output_type": "display_data"
    }
   ],
   "source": [
    "label_dict = {0: 'nothate', 1: 'hate'}\n",
    "bodyPredictions, _ = model.predict([articleBody,articleTItle])\n",
    "isArticleBodyHateful=label_dict[bodyPredictions[0]]\n",
    "isArticleTitleHateful=label_dict[bodyPredictions[1]]"
   ]
  },
  {
   "cell_type": "code",
   "execution_count": 26,
   "id": "a7ca61a9",
   "metadata": {},
   "outputs": [
    {
     "name": "stdout",
     "output_type": "stream",
     "text": [
      "hate\n",
      "nothate\n"
     ]
    }
   ],
   "source": [
    "print(isArticleBodyHateful)\n",
    "print(isArticleTitleHateful)"
   ]
  }
 ],
 "metadata": {
  "kernelspec": {
   "display_name": "Python 3 (ipykernel)",
   "language": "python",
   "name": "python3"
  },
  "language_info": {
   "codemirror_mode": {
    "name": "ipython",
    "version": 3
   },
   "file_extension": ".py",
   "mimetype": "text/x-python",
   "name": "python",
   "nbconvert_exporter": "python",
   "pygments_lexer": "ipython3",
   "version": "3.9.13"
  }
 },
 "nbformat": 4,
 "nbformat_minor": 5
}
